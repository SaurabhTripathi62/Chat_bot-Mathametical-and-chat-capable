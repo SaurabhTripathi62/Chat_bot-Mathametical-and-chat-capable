{
 "cells": [
  {
   "cell_type": "markdown",
   "metadata": {},
   "source": [
    "#####  This model is made in chatterbot and is capable of solving maths equations with chating."
   ]
  },
  {
   "cell_type": "code",
   "execution_count": 2,
   "metadata": {},
   "outputs": [
    {
     "name": "stderr",
     "output_type": "stream",
     "text": [
      "[nltk_data] Downloading package stopwords to\n",
      "[nltk_data]     C:\\Users\\stripathi\\AppData\\Roaming\\nltk_data...\n",
      "[nltk_data]   Package stopwords is already up-to-date!\n",
      "[nltk_data] Downloading package averaged_perceptron_tagger to\n",
      "[nltk_data]     C:\\Users\\stripathi\\AppData\\Roaming\\nltk_data...\n",
      "[nltk_data]   Package averaged_perceptron_tagger is already up-to-\n",
      "[nltk_data]       date!\n",
      "C:\\Users\\stripathi\\AppData\\Local\\Continuum\\anaconda3\\envs\\chatbot1\\lib\\site-packages\\chatterbot\\corpus.py:38: YAMLLoadWarning: calling yaml.load() without Loader=... is deprecated, as the default Loader is unsafe. Please read https://msg.pyyaml.org/load for full details.\n",
      "  return yaml.load(data_file)\n"
     ]
    },
    {
     "name": "stdout",
     "output_type": "stream",
     "text": [
      "Training sports.yml: [####################] 100%\n",
      "Training science.yml: [####################] 100%\n",
      "Training movies.yml: [####################] 100%\n",
      "Training humor.yml: [####################] 100%\n",
      "Training health.yml: [####################] 100%\n",
      "Training greetings.yml: [####################] 100%\n",
      "Training food.yml: [####################] 100%\n",
      "Training emotion.yml: [####################] 100%\n",
      "Training conversations.yml: [####################] 100%\n",
      "Training computers.yml: [####################] 100%\n",
      "Training botprofile.yml: [####################] 100%\n",
      "Type \"bye\" to leave when done. (\",) \n",
      " dont use symbol or char between maths equation\n"
     ]
    },
    {
     "name": "stdin",
     "output_type": "stream",
     "text": [
      "\n",
      "(\",) You:  hello\n"
     ]
    },
    {
     "name": "stdout",
     "output_type": "stream",
     "text": [
      "(@@,) AI:  Hi\n"
     ]
    },
    {
     "name": "stdin",
     "output_type": "stream",
     "text": [
      "\n",
      "(\",) You:  can you solve 4+3-2\n"
     ]
    },
    {
     "name": "stdout",
     "output_type": "stream",
     "text": [
      "(@@,) AI:  4 + 3 - 2 = 5\n"
     ]
    },
    {
     "name": "stdin",
     "output_type": "stream",
     "text": [
      "\n",
      "(\",) You:  what is 9*6(7-8)\n"
     ]
    },
    {
     "name": "stdout",
     "output_type": "stream",
     "text": [
      "(@@,) AI:  9 * 6 ( 7 - 8 ) = -6\n"
     ]
    },
    {
     "name": "stdin",
     "output_type": "stream",
     "text": [
      "\n",
      "(\",) You:  23-8*(2/2-5*7)\n"
     ]
    },
    {
     "name": "stdout",
     "output_type": "stream",
     "text": [
      "(@@,) AI:  23 - 8 * ( 2 / 2 - 5 * 7 ) = 295\n"
     ]
    },
    {
     "name": "stdin",
     "output_type": "stream",
     "text": [
      "\n",
      "(\",) You:  bye\n"
     ]
    },
    {
     "name": "stdout",
     "output_type": "stream",
     "text": [
      "(@@,) Nice Talking to you,see you next time (^,^) ... Good Day! (\",) \n"
     ]
    }
   ],
   "source": [
    "\n",
    "from chatterbot import ChatBot,filters\n",
    "from chatterbot.trainers import ListTrainer # for list part\n",
    "from chatterbot.trainers import ChatterBotCorpusTrainer\n",
    "#from chatterbot.response_selection import get_random_response \n",
    "import re\n",
    "from datetime import datetime\n",
    "\n",
    "chatbot_math = ChatBot('chatbot_math',\n",
    "                           read_only=True,\n",
    "                           logic_adapters=[\n",
    "                               \"chatterbot.logic.BestMatch\",\n",
    "                               \"chatterbot.logic.MathematicalEvaluation\",\n",
    "                               \n",
    "                               #\"chatterbot.response_selection.get_random_response\",\n",
    "                               #\"chatterbot.logic.TimeLogicAdapter\",\n",
    "                               #'''{\n",
    "                               # \"import_path\": \"chatterbot.logic.BestMatch\",\n",
    "                                #\"response_selection_method\": \"chatterbot.response_selection.get_random_response\"      \n",
    "                               # },'''\n",
    "                                           ],\n",
    "                           filters=[filters.get_recent_repeated_responses],\n",
    "                          )  \n",
    "\n",
    "\n",
    "\n",
    "trainer = ChatterBotCorpusTrainer(chatbot_math) \n",
    "trainer.train(\"chatterbot.corpus.english.sports\",\n",
    "      \"chatterbot.corpus.english.science\",\n",
    "      \"chatterbot.corpus.english.movies\",\n",
    "      \"chatterbot.corpus.english.humor\",\n",
    "      \"chatterbot.corpus.english.health\",\n",
    "      \"chatterbot.corpus.english.greetings\",\n",
    "      \"chatterbot.corpus.english.food\",\n",
    "      \"chatterbot.corpus.english.emotion\",\n",
    "      \"chatterbot.corpus.english.conversations\",\n",
    "      \"chatterbot.corpus.english.computers\",\n",
    "      \"chatterbot.corpus.english.botprofile\"\n",
    "     )\n",
    "\n",
    "\n",
    "print('Type \"bye\" to leave when done. (\",) \\n dont use symbol or char between maths equation')\n",
    "#try:\n",
    "while True:\n",
    "\n",
    "    userInput=input('\\n(\",) You: ')\n",
    "    userInput=userInput.lower()\n",
    "    userInput=re.sub(r\"[+]\",\" + \",userInput)\n",
    "    userInput=re.sub(r\"[-]\",\" - \",userInput)\n",
    "    userInput=re.sub(r\"[/]\",\" / \",userInput)\n",
    "    userInput=re.sub(r\"[*]\",\" * \",userInput)\n",
    "    userInput=re.sub(r\"[%]\",\" % \",userInput)\n",
    "    userInput=re.sub(r\"\\[\",\" ( \",userInput)\n",
    "    userInput=re.sub(r\"\\]\",\" ) \",userInput)\n",
    "    userInput=re.sub(r\"\\{\",\" ( \",userInput)\n",
    "    userInput=re.sub(r\"\\}\",\" ) \",userInput)\n",
    "    userInput=re.sub(r\"u\" ,\"you\",userInput)\n",
    "    userInput=re.sub(r\"r\" ,\"are\",userInput)\n",
    "    #userInput=re.sub(r\"\")\n",
    "    if userInput==\"bye\":\n",
    "        print('(@@,) Nice Talking to you,see you next time (^,^) ... Good Day! (\",) ')\n",
    "        break \n",
    "    elif userInput!=\"\":\n",
    "        print('(@@,) AI: ',chatbot_math.get_response(userInput))\n",
    "    else:\n",
    "        print( '\"I dont understand that one !\", type \"bye\" if you want to leave')\n",
    "#except:\n",
    "        #print(\" Wrong Input please correct it,single [ { ( Symbol \\n or character in maths like loggical error should be avoided\")\n",
    "        #chatbot1()\n",
    "#chatbot10() "
   ]
  },
  {
   "cell_type": "markdown",
   "metadata": {},
   "source": [
    "### Thank you!"
   ]
  }
 ],
 "metadata": {
  "kernelspec": {
   "display_name": "Python 3",
   "language": "python",
   "name": "python3"
  },
  "language_info": {
   "codemirror_mode": {
    "name": "ipython",
    "version": 3
   },
   "file_extension": ".py",
   "mimetype": "text/x-python",
   "name": "python",
   "nbconvert_exporter": "python",
   "pygments_lexer": "ipython3",
   "version": "3.7.4"
  }
 },
 "nbformat": 4,
 "nbformat_minor": 4
}
